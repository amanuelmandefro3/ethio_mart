{
 "cells": [
  {
   "cell_type": "code",
   "execution_count": 1,
   "metadata": {},
   "outputs": [],
   "source": [
    "import pandas as pd\n",
    "import re"
   ]
  },
  {
   "cell_type": "code",
   "execution_count": 2,
   "metadata": {},
   "outputs": [],
   "source": [
    "df = pd.read_csv('../data/telegram_data.csv')\n"
   ]
  },
  {
   "cell_type": "code",
   "execution_count": 3,
   "metadata": {},
   "outputs": [
    {
     "data": {
      "text/html": [
       "<div>\n",
       "<style scoped>\n",
       "    .dataframe tbody tr th:only-of-type {\n",
       "        vertical-align: middle;\n",
       "    }\n",
       "\n",
       "    .dataframe tbody tr th {\n",
       "        vertical-align: top;\n",
       "    }\n",
       "\n",
       "    .dataframe thead th {\n",
       "        text-align: right;\n",
       "    }\n",
       "</style>\n",
       "<table border=\"1\" class=\"dataframe\">\n",
       "  <thead>\n",
       "    <tr style=\"text-align: right;\">\n",
       "      <th></th>\n",
       "      <th>Channel Title</th>\n",
       "      <th>Channel Username</th>\n",
       "      <th>ID</th>\n",
       "      <th>Message</th>\n",
       "      <th>Date</th>\n",
       "      <th>Media Path</th>\n",
       "    </tr>\n",
       "  </thead>\n",
       "  <tbody>\n",
       "    <tr>\n",
       "      <th>0</th>\n",
       "      <td>HellooMarket</td>\n",
       "      <td>@helloomarketethiopia</td>\n",
       "      <td>4241</td>\n",
       "      <td>ለፀጉሮ ልስላሴ እና ጥንካሬን እንዲሁም የቆዳ ድርቀትን የሚከላከለውን ጂኤ...</td>\n",
       "      <td>2024-09-30 18:02:11+00:00</td>\n",
       "      <td>photos\\@helloomarketethiopia_4241.jpg</td>\n",
       "    </tr>\n",
       "    <tr>\n",
       "      <th>1</th>\n",
       "      <td>HellooMarket</td>\n",
       "      <td>@helloomarketethiopia</td>\n",
       "      <td>4239</td>\n",
       "      <td>አስደናቄ አትዮጵያዊ ምስልሎች ያላቸው የአረቄ መለኪያ ለማዘዝ 8420 ይደ...</td>\n",
       "      <td>2024-09-30 14:45:27+00:00</td>\n",
       "      <td>photos\\@helloomarketethiopia_4239.jpg</td>\n",
       "    </tr>\n",
       "    <tr>\n",
       "      <th>2</th>\n",
       "      <td>HellooMarket</td>\n",
       "      <td>@helloomarketethiopia</td>\n",
       "      <td>4238</td>\n",
       "      <td>ምቹ የወንዶች ቁምጣ እና ቲሸርት ለማዘዝ 8420 ይደውሉ ወይም https:...</td>\n",
       "      <td>2024-09-30 11:22:26+00:00</td>\n",
       "      <td>photos\\@helloomarketethiopia_4238.jpg</td>\n",
       "    </tr>\n",
       "    <tr>\n",
       "      <th>3</th>\n",
       "      <td>HellooMarket</td>\n",
       "      <td>@helloomarketethiopia</td>\n",
       "      <td>4237</td>\n",
       "      <td>ከጥጥ የተሰራ ምቹ ፤ ለስላሳ እና ተንቀሳቃሽ የልጆች አልጋ ከነትራሱ በተ...</td>\n",
       "      <td>2024-09-29 10:11:39+00:00</td>\n",
       "      <td>photos\\@helloomarketethiopia_4237.jpg</td>\n",
       "    </tr>\n",
       "    <tr>\n",
       "      <th>4</th>\n",
       "      <td>HellooMarket</td>\n",
       "      <td>@helloomarketethiopia</td>\n",
       "      <td>4236</td>\n",
       "      <td>ዘናጭ ውበትን የሚያላብስ ቀሚስ ለማዘዝ 8420 ይደውሉ ወይም https:/...</td>\n",
       "      <td>2024-09-28 18:01:39+00:00</td>\n",
       "      <td>photos\\@helloomarketethiopia_4236.jpg</td>\n",
       "    </tr>\n",
       "    <tr>\n",
       "      <th>...</th>\n",
       "      <td>...</td>\n",
       "      <td>...</td>\n",
       "      <td>...</td>\n",
       "      <td>...</td>\n",
       "      <td>...</td>\n",
       "      <td>...</td>\n",
       "    </tr>\n",
       "    <tr>\n",
       "      <th>2469</th>\n",
       "      <td>HellooMarket</td>\n",
       "      <td>@helloomarketethiopia</td>\n",
       "      <td>1674</td>\n",
       "      <td>8420 ላይ በመደወል ወይም መልዕክት በመላክ ለስላሳ እና ምቹ እጅጌ ሙሉ...</td>\n",
       "      <td>2021-12-21 17:30:06+00:00</td>\n",
       "      <td>photos\\@helloomarketethiopia_1674.jpg</td>\n",
       "    </tr>\n",
       "    <tr>\n",
       "      <th>2470</th>\n",
       "      <td>HellooMarket</td>\n",
       "      <td>@helloomarketethiopia</td>\n",
       "      <td>1673</td>\n",
       "      <td>8420 ላይ በመደወል ወይም መልዕክት በመላክ ከንጹህ ቆዳ የተሰራ የሴቶች...</td>\n",
       "      <td>2021-12-21 10:30:59+00:00</td>\n",
       "      <td>photos\\@helloomarketethiopia_1673.jpg</td>\n",
       "    </tr>\n",
       "    <tr>\n",
       "      <th>2471</th>\n",
       "      <td>HellooMarket</td>\n",
       "      <td>@helloomarketethiopia</td>\n",
       "      <td>1672</td>\n",
       "      <td>8420 ላይ በመደወል ወይም መልዕክት በመላክ ለሁሉም የቆዳ አይነት የሚሆ...</td>\n",
       "      <td>2021-12-20 17:15:07+00:00</td>\n",
       "      <td>photos\\@helloomarketethiopia_1672.jpg</td>\n",
       "    </tr>\n",
       "    <tr>\n",
       "      <th>2472</th>\n",
       "      <td>HellooMarket</td>\n",
       "      <td>@helloomarketethiopia</td>\n",
       "      <td>1670</td>\n",
       "      <td>8420 ላይ በመደወል ወይም መልዕክት በመላክ ዝቋላ የእጅ ሳሙና ፣ የእቃ...</td>\n",
       "      <td>2021-12-19 17:00:06+00:00</td>\n",
       "      <td>photos\\@helloomarketethiopia_1670.jpg</td>\n",
       "    </tr>\n",
       "    <tr>\n",
       "      <th>2473</th>\n",
       "      <td>HellooMarket</td>\n",
       "      <td>@helloomarketethiopia</td>\n",
       "      <td>1669</td>\n",
       "      <td>8420 ላይ በመደወል ወይም መልዕክት በመላክ ጆጆ የወተት ምርቶችን በተለ...</td>\n",
       "      <td>2021-12-19 13:01:51+00:00</td>\n",
       "      <td>photos\\@helloomarketethiopia_1669.jpg</td>\n",
       "    </tr>\n",
       "  </tbody>\n",
       "</table>\n",
       "<p>2474 rows × 6 columns</p>\n",
       "</div>"
      ],
      "text/plain": [
       "     Channel Title       Channel Username    ID  \\\n",
       "0     HellooMarket  @helloomarketethiopia  4241   \n",
       "1     HellooMarket  @helloomarketethiopia  4239   \n",
       "2     HellooMarket  @helloomarketethiopia  4238   \n",
       "3     HellooMarket  @helloomarketethiopia  4237   \n",
       "4     HellooMarket  @helloomarketethiopia  4236   \n",
       "...            ...                    ...   ...   \n",
       "2469  HellooMarket  @helloomarketethiopia  1674   \n",
       "2470  HellooMarket  @helloomarketethiopia  1673   \n",
       "2471  HellooMarket  @helloomarketethiopia  1672   \n",
       "2472  HellooMarket  @helloomarketethiopia  1670   \n",
       "2473  HellooMarket  @helloomarketethiopia  1669   \n",
       "\n",
       "                                                Message  \\\n",
       "0     ለፀጉሮ ልስላሴ እና ጥንካሬን እንዲሁም የቆዳ ድርቀትን የሚከላከለውን ጂኤ...   \n",
       "1     አስደናቄ አትዮጵያዊ ምስልሎች ያላቸው የአረቄ መለኪያ ለማዘዝ 8420 ይደ...   \n",
       "2     ምቹ የወንዶች ቁምጣ እና ቲሸርት ለማዘዝ 8420 ይደውሉ ወይም https:...   \n",
       "3     ከጥጥ የተሰራ ምቹ ፤ ለስላሳ እና ተንቀሳቃሽ የልጆች አልጋ ከነትራሱ በተ...   \n",
       "4     ዘናጭ ውበትን የሚያላብስ ቀሚስ ለማዘዝ 8420 ይደውሉ ወይም https:/...   \n",
       "...                                                 ...   \n",
       "2469  8420 ላይ በመደወል ወይም መልዕክት በመላክ ለስላሳ እና ምቹ እጅጌ ሙሉ...   \n",
       "2470  8420 ላይ በመደወል ወይም መልዕክት በመላክ ከንጹህ ቆዳ የተሰራ የሴቶች...   \n",
       "2471  8420 ላይ በመደወል ወይም መልዕክት በመላክ ለሁሉም የቆዳ አይነት የሚሆ...   \n",
       "2472  8420 ላይ በመደወል ወይም መልዕክት በመላክ ዝቋላ የእጅ ሳሙና ፣ የእቃ...   \n",
       "2473  8420 ላይ በመደወል ወይም መልዕክት በመላክ ጆጆ የወተት ምርቶችን በተለ...   \n",
       "\n",
       "                           Date                             Media Path  \n",
       "0     2024-09-30 18:02:11+00:00  photos\\@helloomarketethiopia_4241.jpg  \n",
       "1     2024-09-30 14:45:27+00:00  photos\\@helloomarketethiopia_4239.jpg  \n",
       "2     2024-09-30 11:22:26+00:00  photos\\@helloomarketethiopia_4238.jpg  \n",
       "3     2024-09-29 10:11:39+00:00  photos\\@helloomarketethiopia_4237.jpg  \n",
       "4     2024-09-28 18:01:39+00:00  photos\\@helloomarketethiopia_4236.jpg  \n",
       "...                         ...                                    ...  \n",
       "2469  2021-12-21 17:30:06+00:00  photos\\@helloomarketethiopia_1674.jpg  \n",
       "2470  2021-12-21 10:30:59+00:00  photos\\@helloomarketethiopia_1673.jpg  \n",
       "2471  2021-12-20 17:15:07+00:00  photos\\@helloomarketethiopia_1672.jpg  \n",
       "2472  2021-12-19 17:00:06+00:00  photos\\@helloomarketethiopia_1670.jpg  \n",
       "2473  2021-12-19 13:01:51+00:00  photos\\@helloomarketethiopia_1669.jpg  \n",
       "\n",
       "[2474 rows x 6 columns]"
      ]
     },
     "execution_count": 3,
     "metadata": {},
     "output_type": "execute_result"
    }
   ],
   "source": [
    "df"
   ]
  },
  {
   "cell_type": "code",
   "execution_count": 4,
   "metadata": {},
   "outputs": [
    {
     "name": "stdout",
     "output_type": "stream",
     "text": [
      "Checking for Nan values in the \"Message\" column:\n",
      "Number of Nan values in \"Message\" column: 12\n"
     ]
    }
   ],
   "source": [
    "print('Checking for Nan values in the \"Message\" column:')\n",
    "nan_count = df['Message'].isna().sum()\n",
    "print(f'Number of Nan values in \"Message\" column: {nan_count}')"
   ]
  },
  {
   "cell_type": "code",
   "execution_count": 5,
   "metadata": {},
   "outputs": [
    {
     "name": "stdout",
     "output_type": "stream",
     "text": [
      "Dataset shape after dropping Nan values: (2462, 6)\n"
     ]
    }
   ],
   "source": [
    "df = df.dropna(subset=['Message'])\n",
    "\n",
    "print(f\"Dataset shape after dropping Nan values: {df.shape}\")"
   ]
  },
  {
   "cell_type": "code",
   "execution_count": 6,
   "metadata": {},
   "outputs": [
    {
     "data": {
      "text/plain": [
       "0       ለፀጉሮ ልስላሴ እና ጥንካሬን እንዲሁም የቆዳ ድርቀትን የሚከላከለውን ጂኤ...\n",
       "1       አስደናቄ አትዮጵያዊ ምስልሎች ያላቸው የአረቄ መለኪያ ለማዘዝ 8420 ይደ...\n",
       "2       ምቹ የወንዶች ቁምጣ እና ቲሸርት ለማዘዝ 8420 ይደውሉ ወይም https:...\n",
       "3       ከጥጥ የተሰራ ምቹ ፤ ለስላሳ እና ተንቀሳቃሽ የልጆች አልጋ ከነትራሱ በተ...\n",
       "4       ዘናጭ ውበትን የሚያላብስ ቀሚስ ለማዘዝ 8420 ይደውሉ ወይም https:/...\n",
       "                              ...                        \n",
       "2469    8420 ላይ በመደወል ወይም መልዕክት በመላክ ለስላሳ እና ምቹ እጅጌ ሙሉ...\n",
       "2470    8420 ላይ በመደወል ወይም መልዕክት በመላክ ከንጹህ ቆዳ የተሰራ የሴቶች...\n",
       "2471    8420 ላይ በመደወል ወይም መልዕክት በመላክ ለሁሉም የቆዳ አይነት የሚሆ...\n",
       "2472    8420 ላይ በመደወል ወይም መልዕክት በመላክ ዝቋላ የእጅ ሳሙና ፣ የእቃ...\n",
       "2473    8420 ላይ በመደወል ወይም መልዕክት በመላክ ጆጆ የወተት ምርቶችን በተለ...\n",
       "Name: Message, Length: 2462, dtype: object"
      ]
     },
     "execution_count": 6,
     "metadata": {},
     "output_type": "execute_result"
    }
   ],
   "source": [
    "message_df = df['Message']\n",
    "message_df"
   ]
  },
  {
   "cell_type": "markdown",
   "metadata": {},
   "source": [
    "Removing Emoji's "
   ]
  },
  {
   "cell_type": "code",
   "execution_count": 13,
   "metadata": {},
   "outputs": [
    {
     "name": "stdout",
     "output_type": "stream",
     "text": [
      "                        Message\n",
      "0  to order use the link below!\n",
      "1       ለማዘዝ ከታች ያለውን ሊንክ ይጠቀሙ!\n",
      "2       ከ21 ዓመት በታች ለሆኑ የተከለከለ!\n",
      "3          no drinking under 21\n"
     ]
    }
   ],
   "source": [
    "import re\n",
    "import pandas as pd\n",
    "\n",
    "# Example DataFrame with multilingual text and emojis\n",
    "df = pd.DataFrame({'Message': [\n",
    "    '📌to order use the link below!',\n",
    "    '📌ለማዘዝ ከታች ያለውን ሊንክ ይጠቀሙ!',\n",
    "    '🚫ከ21 ዓመት በታች ለሆኑ የተከለከለ!',\n",
    "    '🚫no drinking under 21'\n",
    "]})\n",
    "\n",
    "# Define a function to remove emojis and specific symbols\n",
    "def remove_emojis(text):\n",
    "    emoji_pattern = re.compile(\n",
    "        \"[\" \n",
    "        \"\\U0001F600-\\U0001F64F\"  # emoticons\n",
    "        \"\\U0001F300-\\U0001F5FF\"  # symbols & pictographs\n",
    "        \"\\U0001F680-\\U0001F6FF\"  # transport & map symbols\n",
    "        \"\\U0001F700-\\U0001F77F\"  # alchemical symbols\n",
    "        \"\\U0001F780-\\U0001F7FF\"  # geometric shapes extended\n",
    "        \"\\U0001F800-\\U0001F8FF\"  # supplemental arrows-C\n",
    "        \"\\U0001F900-\\U0001F9FF\"  # supplemental symbols and pictographs\n",
    "        \"\\U0001FA00-\\U0001FA6F\"  # chess symbols\n",
    "        \"\\U0001FA70-\\U0001FAFF\"  # symbols and pictographs extended-A\n",
    "        \"\\U00002702-\\U000027B0\"  # dingbats\n",
    "        \"\\U000024C2-\\U0001F251\"  # enclosed characters\n",
    "        \"\\U00002022\"             # bullet point (●)\n",
    "        \"\\U0001F6AB\"             # prohibited (🚫)\n",
    "        \"\\U0001F4CC\"             # pushpin (📌)\n",
    "        \"]+\", \n",
    "        flags=re.UNICODE\n",
    "    )\n",
    "    return emoji_pattern.sub(r'', text)\n",
    "\n",
    "# Apply the function to the 'Message' column\n",
    "df['Message'] = df['Message'].apply(remove_emojis)\n",
    "\n",
    "# Display the updated DataFrame\n",
    "print(df.head())\n"
   ]
  },
  {
   "cell_type": "code",
   "execution_count": 14,
   "metadata": {},
   "outputs": [],
   "source": [
    "df.to_csv('../data/clean_data.csv', index=False)    "
   ]
  },
  {
   "cell_type": "markdown",
   "metadata": {},
   "source": [
    "Data Processing and Labeling"
   ]
  },
  {
   "cell_type": "code",
   "execution_count": 15,
   "metadata": {},
   "outputs": [
    {
     "data": {
      "text/html": [
       "<div>\n",
       "<style scoped>\n",
       "    .dataframe tbody tr th:only-of-type {\n",
       "        vertical-align: middle;\n",
       "    }\n",
       "\n",
       "    .dataframe tbody tr th {\n",
       "        vertical-align: top;\n",
       "    }\n",
       "\n",
       "    .dataframe thead th {\n",
       "        text-align: right;\n",
       "    }\n",
       "</style>\n",
       "<table border=\"1\" class=\"dataframe\">\n",
       "  <thead>\n",
       "    <tr style=\"text-align: right;\">\n",
       "      <th></th>\n",
       "      <th>Message</th>\n",
       "      <th>Labeled_Message</th>\n",
       "    </tr>\n",
       "  </thead>\n",
       "  <tbody>\n",
       "    <tr>\n",
       "      <th>0</th>\n",
       "      <td>to order use the link below!</td>\n",
       "      <td>to B-PRODUCT\\norder I-PRODUCT\\nuse I-PRODUCT\\n...</td>\n",
       "    </tr>\n",
       "    <tr>\n",
       "      <th>1</th>\n",
       "      <td>ለማዘዝ ከታች ያለውን ሊንክ ይጠቀሙ!</td>\n",
       "      <td>ለማዘዝ B-PRODUCT\\nከታች I-PRODUCT\\nያለውን I-PRODUCT\\...</td>\n",
       "    </tr>\n",
       "    <tr>\n",
       "      <th>2</th>\n",
       "      <td>ከ21 ዓመት በታች ለሆኑ የተከለከለ!</td>\n",
       "      <td>ከ21 B-PRODUCT\\nዓመት I-PRODUCT\\nበታች I-PRODUCT\\nለ...</td>\n",
       "    </tr>\n",
       "    <tr>\n",
       "      <th>3</th>\n",
       "      <td>no drinking under 21</td>\n",
       "      <td>no B-PRODUCT\\ndrinking I-PRODUCT\\nunder I-PROD...</td>\n",
       "    </tr>\n",
       "  </tbody>\n",
       "</table>\n",
       "</div>"
      ],
      "text/plain": [
       "                        Message  \\\n",
       "0  to order use the link below!   \n",
       "1       ለማዘዝ ከታች ያለውን ሊንክ ይጠቀሙ!   \n",
       "2       ከ21 ዓመት በታች ለሆኑ የተከለከለ!   \n",
       "3          no drinking under 21   \n",
       "\n",
       "                                     Labeled_Message  \n",
       "0  to B-PRODUCT\\norder I-PRODUCT\\nuse I-PRODUCT\\n...  \n",
       "1  ለማዘዝ B-PRODUCT\\nከታች I-PRODUCT\\nያለውን I-PRODUCT\\...  \n",
       "2  ከ21 B-PRODUCT\\nዓመት I-PRODUCT\\nበታች I-PRODUCT\\nለ...  \n",
       "3  no B-PRODUCT\\ndrinking I-PRODUCT\\nunder I-PROD...  "
      ]
     },
     "execution_count": 15,
     "metadata": {},
     "output_type": "execute_result"
    }
   ],
   "source": [
    "\n",
    "def label_message_utf8_with_birr(message):\n",
    "    # Split the message at the first occurrence of '\\n'\n",
    "    if '\\n' in message:\n",
    "        first_line, remaining_message = message.split('\\n', 1)\n",
    "    else:\n",
    "        first_line, remaining_message = message, \"\"\n",
    "    \n",
    "    labeled_tokens = []\n",
    "    \n",
    "    # Tokenize the first line\n",
    "    first_line_tokens = re.findall(r'\\S+', first_line)\n",
    "    \n",
    "    # Label the first token as B-PRODUCT and the rest as I-PRODUCT\n",
    "    if first_line_tokens:\n",
    "        labeled_tokens.append(f\"{first_line_tokens[0]} B-PRODUCT\")  # First token as B-PRODUCT\n",
    "        for token in first_line_tokens[1:]:\n",
    "            labeled_tokens.append(f\"{token} I-PRODUCT\")  # Remaining tokens as I-PRODUCT\n",
    "    \n",
    "    # Process the remaining message normally\n",
    "    if remaining_message:\n",
    "        lines = remaining_message.split('\\n')\n",
    "        for line in lines:\n",
    "            tokens = re.findall(r'\\S+', line)  # Tokenize each line while considering non-ASCII characters\n",
    "            \n",
    "            for token in tokens:\n",
    "                # Check if token is a price (e.g., 500 ETB, $100, or ብር)\n",
    "                if re.match(r'^\\d{10,}$', token):\n",
    "                    labeled_tokens.append(f\"{token} O\")  # Label as O for \"other\" or outside of any entity\n",
    "                elif re.match(r'^\\d+(\\.\\d{1,2})?$', token) or 'ETB' in token or 'ዋጋ' in token or '$' in token or 'ብር' in token:\n",
    "                    labeled_tokens.append(f\"{token} I-PRICE\")\n",
    "                # Check if token could be a location (e.g., cities or general location names)\n",
    "                elif any(tag in token for tag in ['#Madeinethiopi', '#Ethiopian', '#BuyEthiopia', '#Marketplace']):\n",
    "                    labeled_tokens.append(f\"{token} I-LOC\")\n",
    "                # Assume other tokens are part of a product name or general text\n",
    "                else:\n",
    "                    labeled_tokens.append(f\"{token} O\")\n",
    "    \n",
    "    return \"\\n\".join(labeled_tokens)\n",
    "\n",
    "# Apply the updated function to the non-null messages\n",
    "df['Labeled_Message'] = df['Message'].apply(label_message_utf8_with_birr)\n",
    "\n",
    "# Display the updated DataFrame\n",
    "df.head()\n"
   ]
  },
  {
   "cell_type": "code",
   "execution_count": 16,
   "metadata": {},
   "outputs": [],
   "source": [
    "# Save the updated labeled dataset to a file in CoNLL format\n",
    "labeled_data_birr_path = 'labeled_telegram_product_price_location.txt-'\n",
    "with open(labeled_data_birr_path, 'w', encoding='utf-8') as f:\n",
    "    for index, row in df.iterrows():\n",
    "        f.write(f\"{row['Labeled_Message']}\\n\\n\")"
   ]
  }
 ],
 "metadata": {
  "kernelspec": {
   "display_name": ".venv",
   "language": "python",
   "name": "python3"
  },
  "language_info": {
   "codemirror_mode": {
    "name": "ipython",
    "version": 3
   },
   "file_extension": ".py",
   "mimetype": "text/x-python",
   "name": "python",
   "nbconvert_exporter": "python",
   "pygments_lexer": "ipython3",
   "version": "3.12.6"
  }
 },
 "nbformat": 4,
 "nbformat_minor": 2
}
